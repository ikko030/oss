{
  "nbformat": 4,
  "nbformat_minor": 0,
  "metadata": {
    "colab": {
      "provenance": [],
      "authorship_tag": "ABX9TyMr30GAjP//hIjNbqqxXAwj",
      "include_colab_link": true
    },
    "kernelspec": {
      "name": "python3",
      "display_name": "Python 3"
    },
    "language_info": {
      "name": "python"
    }
  },
  "cells": [
    {
      "cell_type": "markdown",
      "metadata": {
        "id": "view-in-github",
        "colab_type": "text"
      },
      "source": [
        "<a href=\"https://colab.research.google.com/github/ikko030/oss/blob/main/practice.ipynb\" target=\"_parent\"><img src=\"https://colab.research.google.com/assets/colab-badge.svg\" alt=\"Open In Colab\"/></a>"
      ]
    },
    {
      "cell_type": "markdown",
      "source": [
        "# 연습장"
      ],
      "metadata": {
        "id": "aND5lI-wRHa6"
      }
    },
    {
      "cell_type": "markdown",
      "source": [
        "ㅎㅎ"
      ],
      "metadata": {
        "id": "PXHyCaX0RYGX"
      }
    },
    {
      "cell_type": "code",
      "source": [
        "date_input = '2024-03-01' #@"
      ],
      "metadata": {
        "id": "wjy5zT0_Tjzs"
      },
      "execution_count": 3,
      "outputs": []
    },
    {
      "cell_type": "markdown",
      "source": [
        "1.컨트롤+방향키 : 단어 단위로 옮겨짐\n",
        "2.end키: 맨 끝으로 감"
      ],
      "metadata": {
        "id": "WtHuoHNSTAQg"
      }
    },
    {
      "cell_type": "code",
      "execution_count": null,
      "metadata": {
        "colab": {
          "base_uri": "https://localhost:8080/"
        },
        "id": "daMY9jf5TCBL",
        "outputId": "44480c5c-def8-4b30-b15d-a487b9fa98a4"
      },
      "outputs": [
        {
          "output_type": "stream",
          "name": "stdout",
          "text": [
            "number n:5\n",
            "nimber is: 13\n"
          ]
        }
      ],
      "source": [
        "#재귀 구조 예)등차수\n",
        "def seq(n):\n",
        "  if n ==1:\n",
        "    return 1\n",
        "  else:\n",
        "    return seq(n-1) +3\n",
        "\n",
        "a = seq(int(input('number n:')))\n",
        "print('nimber is:',a)"
      ]
    },
    {
      "cell_type": "code",
      "source": [
        "#재귀 구조 예)피보나치 수열\n",
        "#첫 두 항은 1이고, 나머지 항은 각각 직전 두 항을 더한 값\n",
        "def fib(n):\n",
        "  if n==1 or n==2:\n",
        "    return 1\n",
        "  else:\n",
        "    return fib(n-1) + fib(n-2)\n",
        "\n",
        "fib(9)"
      ],
      "metadata": {
        "colab": {
          "base_uri": "https://localhost:8080/"
        },
        "id": "pU4HMiG--qfK",
        "outputId": "3e1d9ea7-9616-4c9a-8001-9fe3eba5c564"
      },
      "execution_count": null,
      "outputs": [
        {
          "output_type": "execute_result",
          "data": {
            "text/plain": [
              "34"
            ]
          },
          "metadata": {},
          "execution_count": 7
        }
      ]
    },
    {
      "cell_type": "markdown",
      "source": [
        "$ y = ax+b^2 $"
      ],
      "metadata": {
        "id": "L2jdPAXhQ-D4"
      }
    },
    {
      "cell_type": "markdown",
      "source": [],
      "metadata": {
        "id": "2hBJk2_JRJGt"
      }
    },
    {
      "cell_type": "code",
      "source": [
        "import pandas as pd\n",
        "df = pd.read_csv('/content/california_housing_train.csv')\n",
        "print(df)"
      ],
      "metadata": {
        "colab": {
          "base_uri": "https://localhost:8080/"
        },
        "id": "xzwRxWBEU2mB",
        "outputId": "10424947-ba30-44ba-a45b-4c74e7228224"
      },
      "execution_count": 7,
      "outputs": [
        {
          "output_type": "stream",
          "name": "stdout",
          "text": [
            "       longitude  latitude  housing_median_age  total_rooms  total_bedrooms  \\\n",
            "0        -114.31     34.19                15.0       5612.0          1283.0   \n",
            "1        -114.47     34.40                19.0       7650.0          1901.0   \n",
            "2        -114.56     33.69                17.0        720.0           174.0   \n",
            "3        -114.57     33.64                14.0       1501.0           337.0   \n",
            "4        -114.57     33.57                20.0       1454.0           326.0   \n",
            "...          ...       ...                 ...          ...             ...   \n",
            "16995    -124.26     40.58                52.0       2217.0           394.0   \n",
            "16996    -124.27     40.69                36.0       2349.0           528.0   \n",
            "16997    -124.30     41.84                17.0       2677.0           531.0   \n",
            "16998    -124.30     41.80                19.0       2672.0           552.0   \n",
            "16999    -124.35     40.54                52.0       1820.0           300.0   \n",
            "\n",
            "       population  households  median_income  median_house_value  \n",
            "0          1015.0       472.0         1.4936             66900.0  \n",
            "1          1129.0       463.0         1.8200             80100.0  \n",
            "2           333.0       117.0         1.6509             85700.0  \n",
            "3           515.0       226.0         3.1917             73400.0  \n",
            "4           624.0       262.0         1.9250             65500.0  \n",
            "...           ...         ...            ...                 ...  \n",
            "16995       907.0       369.0         2.3571            111400.0  \n",
            "16996      1194.0       465.0         2.5179             79000.0  \n",
            "16997      1244.0       456.0         3.0313            103600.0  \n",
            "16998      1298.0       478.0         1.9797             85800.0  \n",
            "16999       806.0       270.0         3.0147             94600.0  \n",
            "\n",
            "[17000 rows x 9 columns]\n"
          ]
        }
      ]
    }
  ]
}